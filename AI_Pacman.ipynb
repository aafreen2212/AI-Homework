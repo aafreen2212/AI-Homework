{
  "nbformat": 4,
  "nbformat_minor": 0,
  "metadata": {
    "colab": {
      "name": "AI_Pacman.ipynb",
      "provenance": [],
      "collapsed_sections": [],
      "authorship_tag": "ABX9TyNCWnfTgiGUAj2TQ06ZlxF8"
    },
    "kernelspec": {
      "name": "python3",
      "display_name": "Python 3"
    }
  },
  "cells": [
    {
      "cell_type": "code",
      "metadata": {
        "id": "WKNc6sJB1rxA"
      },
      "source": [
        "#Import the necessary libraries\n",
        "from heapq import heappush, heappop\n",
        "import math\n",
        "import time"
      ],
      "execution_count": null,
      "outputs": []
    },
    {
      "cell_type": "markdown",
      "metadata": {
        "id": "VPmo9nwyx0Zv"
      },
      "source": [
        "**Find the optimal route for Pacman Problem using A* Search**"
      ]
    },
    {
      "cell_type": "markdown",
      "metadata": {
        "id": "MHO92KOUxkLE"
      },
      "source": [
        "Pacman Problem with directions up, down, left and right"
      ]
    },
    {
      "cell_type": "code",
      "metadata": {
        "id": "nrvNvTfC186G"
      },
      "source": [
        "#Possible directions are four: up, down, left and right\n",
        "#Directions are up: [0,1], down: [0,-1], right: [1, 0] and left: [-1,0]\n",
        "directions = [(-1,0),(0,-1),(0,1),(1,0)]\n",
        "\n",
        "\n",
        "#Priority Queue\n",
        "class PriorityQueue :\n",
        "  #initialize the values of the priority function and queue\n",
        "    def __init__(self, priorityFunc):\n",
        "        self.priorityFunc = priorityFunc\n",
        "        self.heap = []\n",
        "        self.count = 0\n",
        "    \n",
        "    def push(self, item):\n",
        "      #takes the input or entry for the queue\n",
        "        entry = (self.priorityFunc, self.count, item)\n",
        "        heappush(self.heap, entry)\n",
        "        self.count += 1\n",
        "        \n",
        "    def pop(self):\n",
        "      # heapop is used to remove and return the smallest element from heap. The order is adjusted, so as heap structure is maintained.\n",
        "        (_, _, item) = heappop(self.heap)\n",
        "        return item\n",
        "    \n",
        "    def isEmpty(self):\n",
        "      #if the heap is empty then return 0\n",
        "        return len(self.heap) == 0"
      ],
      "execution_count": null,
      "outputs": []
    },
    {
      "cell_type": "code",
      "metadata": {
        "id": "OaZR1fyzFKo3"
      },
      "source": [
        "#Define Manhattan Distance (Hueristic for our A* search)\n",
        "def manhattanHeuristic(node, goal):\n",
        "    return abs(node[0] - goal[0]) + abs(node[1] - goal[1])\n",
        "\n",
        "#Define the cost function\n",
        "def costOfActions(actions):\n",
        "  #if actions are none then the cost function would be 0\n",
        "    if actions == None: return 999999\n",
        "    cost = 0\n",
        "    for action in actions:\n",
        "      #if the action causes the state of the pacman to change then the cost function is increased by 1\n",
        "        x, y = action\n",
        "        if board[x][y] == '%': return 999999\n",
        "        cost += 1\n",
        "    return cost"
      ],
      "execution_count": null,
      "outputs": []
    },
    {
      "cell_type": "code",
      "metadata": {
        "id": "t3Grln8tBZOW"
      },
      "source": [
        "#Create a board of 37 X 37\n",
        "horizontal_size_of_board = 37\n",
        "vertical_size_of_board = 37\n",
        "the_board = []\n",
        "row = [0] * horizontal_size_of_board\n",
        "for i in range(vertical_size_of_board): \n",
        "  the_board.append(list(row))\n"
      ],
      "execution_count": null,
      "outputs": []
    },
    {
      "cell_type": "code",
      "metadata": {
        "id": "Zl0Q8VpWG8_0"
      },
      "source": [
        "#Defining the children nodes for each node and board\n",
        "def getSuccessors(node, board):\n",
        "    children = []\n",
        "    x, y = node\n",
        "    #define the next steps and create the children node if the next step does not have %\n",
        "    for dx,dy in directions:\n",
        "        nextx, nexty = int(x + dx), int(y + dy)\n",
        "        if not board[nextx][nexty] == '%':\n",
        "            children.append((nextx,nexty))\n",
        "    return children"
      ],
      "execution_count": null,
      "outputs": []
    },
    {
      "cell_type": "code",
      "metadata": {
        "id": "MWCzSuAZ2CK8"
      },
      "source": [
        "def a_search(pacman, food, board):\n",
        "  #Define the A* search function which states that f(n) = g(n) + h(n)\n",
        "    priorityFunc = lambda actions: costOfActions([x for x in actions[1]]) + manhattanHeuristic(actions[0], food)\n",
        "    #Apply the priority function to the priority queue and keep a track of visited and unvisited nodes\n",
        "    fringe = PriorityQueue(priorityFunc)\n",
        "    \n",
        "    fringe.push((pacman, []))\n",
        "    visited = []\n",
        "    explored = []\n",
        "    \n",
        "    while not fringe.isEmpty():\n",
        "        current_node, path = fringe.pop()\n",
        "        explored.append(current_node)\n",
        "        \n",
        "         #check the presence of food in the path\n",
        "        if current_node == food:\n",
        "            return path + [current_node]\n",
        "        \n",
        "        if current_node not in visited:\n",
        "            visited.append(current_node)\n",
        "\n",
        "            #find the new path from nodes that are not visited\n",
        "            x, y = current_node\n",
        "            for node in getSuccessors(current_node, board):\n",
        "                if node not in explored:\n",
        "                    new_path = path + [current_node]\n",
        "                    fringe.push((node,new_path))\n"
      ],
      "execution_count": null,
      "outputs": []
    },
    {
      "cell_type": "code",
      "metadata": {
        "id": "OwL2FuB5J1ei",
        "outputId": "8b8e1d2e-131e-45ae-958a-93bd91f98fa8",
        "colab": {
          "base_uri": "https://localhost:8080/",
          "height": 340
        }
      },
      "source": [
        "if __name__ == '__main__':\n",
        "    pacman = tuple(map(int, input('Enter the position of pacman: ').split()))\n",
        "    food = tuple(map(int, input('Enter the position of food: ').split()))\n",
        "    size = tuple(map(int, input('Enter the grid size of the game: ').split()))\n",
        "    \n",
        "    #print the path used by A* search\n",
        "    print('The path is as follows:\\n')\n",
        "    #apply the A* search algorithm to find the path\n",
        "    path = a_search(pacman,food,the_board)\n",
        "    print(len(path) - 1)\n",
        "    for x, y in path:\n",
        "        print(x, y)\n",
        "    t = time.time()\n",
        "    print('Time to generate the route (seconds): ', time.time() - t)"
      ],
      "execution_count": null,
      "outputs": [
        {
          "output_type": "stream",
          "text": [
            "Enter the position of pacman: 11 5\n",
            "Enter the position of food: 22 5\n",
            "Enter the grid size of the game: 37 37\n",
            "The path is as follows:\n",
            "\n",
            "11\n",
            "11 5\n",
            "12 5\n",
            "13 5\n",
            "14 5\n",
            "15 5\n",
            "16 5\n",
            "17 5\n",
            "18 5\n",
            "19 5\n",
            "20 5\n",
            "21 5\n",
            "22 5\n",
            "Time to generate the route (seconds):  1.1920928955078125e-06\n"
          ],
          "name": "stdout"
        }
      ]
    }
  ]
}