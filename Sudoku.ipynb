{
  "nbformat": 4,
  "nbformat_minor": 0,
  "metadata": {
    "colab": {
      "name": "Sudoku.ipynb",
      "provenance": [],
      "collapsed_sections": [],
      "authorship_tag": "ABX9TyPzW6jXeRkAJGr01uhtIRF9",
      "include_colab_link": true
    },
    "kernelspec": {
      "name": "python3",
      "display_name": "Python 3"
    }
  },
  "cells": [
    {
      "cell_type": "markdown",
      "metadata": {
        "id": "view-in-github",
        "colab_type": "text"
      },
      "source": [
        "<a href=\"https://colab.research.google.com/github/aafreen2212/AI-Homework/blob/master/Sudoku.ipynb\" target=\"_parent\"><img src=\"https://colab.research.google.com/assets/colab-badge.svg\" alt=\"Open In Colab\"/></a>"
      ]
    },
    {
      "cell_type": "code",
      "metadata": {
        "id": "xnYVu2sH9hUV"
      },
      "source": [
        "# Function to Find the entry in the(9X9) Grid that is still  not used \n",
        "# Searches the grid to find an entry that is still unassigned. If found, the reference parameters row, col will be set the location \n",
        "#that is unassigned, and true is returned. If no unassigned entries remains, false is returned. \n",
        "# to keep track of incrementation of Rows and Columns \n",
        "\n",
        "\n",
        "  \n"
      ],
      "execution_count": null,
      "outputs": []
    },
    {
      "cell_type": "markdown",
      "metadata": {
        "id": "YSM_uMowyd6L"
      },
      "source": [
        "Function to Find the entry in the(9X9) Grid that is still  not used. Searches the grid to find an entry that is still unassigned. If found, the reference parameters row, col will be set the location that is unassigned, and true is returned. If no unassigned entries remains, false is returned and to keep track of incrementation of Rows and Columns "
      ]
    },
    {
      "cell_type": "code",
      "metadata": {
        "id": "USFUndoXydD8"
      },
      "source": [
        "def findNextCell(grid):\n",
        "    for x in range(9):\n",
        "        for y in range(9):\n",
        "            if grid[x][y] == 0:\n",
        "                return x, y\n",
        "    return -1, -1\n",
        "  "
      ],
      "execution_count": null,
      "outputs": []
    },
    {
      "cell_type": "code",
      "metadata": {
        "id": "lovCFvFWBylE"
      },
      "source": [
        "#Checks if the values present in the grid is valid based on the contraints given in the question \n",
        "# Checks whether it will be legal to assign num to the given row, col \n",
        "#The valid values would be in the range of 1 to 9 and not repeating itself each row, \n",
        "# Returns a boolean which indicates whether it will be valid to assign\n",
        "def isValid(grid, i, j, e):\n",
        "    rowOk = all([e != grid[i][x] for x in range(9)])\n",
        "    if rowOk:\n",
        "        columnOk = all([e != grid[x][j] for x in range(9)])\n",
        "        if columnOk:\n",
        "            secTopX, secTopY = 3*(i//3), 3*(j//3)\n",
        "            for x in range(secTopX, secTopX+3):\n",
        "                for y in range(secTopY, secTopY+3):\n",
        "                    if grid[x][y] == e:\n",
        "                        return False\n",
        "            return True\n",
        "    return False"
      ],
      "execution_count": null,
      "outputs": []
    },
    {
      "cell_type": "code",
      "metadata": {
        "id": "IIq6_5nUCI3o"
      },
      "source": [
        "#Find the unassigned places in the grids and checks for the valid values\n",
        "#Assigns the valid values\n",
        "def solve_problem(grid, i=0, j=0):\n",
        "    i, j = findNextCell(grid)\n",
        "    if i == -1:\n",
        "        return True\n",
        "    for e in range(1, 10):\n",
        "        if isValid(grid, i, j, e):\n",
        "            grid[i][j] = e\n",
        "            if solve_problem(grid, i, j):\n",
        "                return True\n",
        "            grid[i][j] = 0\n",
        "    return False"
      ],
      "execution_count": null,
      "outputs": []
    },
    {
      "cell_type": "code",
      "metadata": {
        "id": "__HJMHwmCswG"
      },
      "source": [
        "\n",
        "# A Utility Function to print the Grid \n",
        "\n",
        "def print_grid():\n",
        "    print(\"\\n\\n\\n\\n\\n\")\n",
        "    for i in range(len(grid)):\n",
        "        line = \"\"\n",
        "        if i == 3 or i == 6:\n",
        "            print(\"---------------------\")\n",
        "        for j in range(len(grid[i])):\n",
        "            if j == 3 or j == 6:\n",
        "                line += \"| \"\n",
        "            line += str(grid[i][j])+\" \"\n",
        "        print(line)"
      ],
      "execution_count": null,
      "outputs": []
    },
    {
      "cell_type": "code",
      "metadata": {
        "id": "7JIxCWjKCqGR"
      },
      "source": [
        " #Define a grid\n",
        "# initializing the values of the grid to 0\n",
        "  grid =[[0, 0, 0, 0, 0, 0, 0, 0, 0], \n",
        "         [0, 0, 0, 0, 0, 0, 0, 0, 0], \n",
        "         [0, 0, 0, 0, 0, 0, 0, 0, 0], \n",
        "         [0, 0, 0, 0, 0, 0, 0, 0, 0], \n",
        "         [0, 0, 0, 0, 0, 0, 0, 0, 0], \n",
        "         [0, 0, 0, 0, 0, 0, 0, 0, 0], \n",
        "         [0, 0, 0, 0, 0, 0, 0, 0, 0], \n",
        "         [0, 0, 0, 0, 0, 0, 0, 0, 0], \n",
        "         [0, 0, 0, 0, 0, 0, 0, 0, 0]] \n",
        "  \n",
        "  "
      ],
      "execution_count": null,
      "outputs": []
    },
    {
      "cell_type": "code",
      "metadata": {
        "id": "NDyn41OCCXl-",
        "outputId": "7795525b-ae3f-415b-ff76-fc3fe2c93e3d",
        "colab": {
          "base_uri": "https://localhost:8080/",
          "height": 306
        }
      },
      "source": [
        "solve_problem(grid)\n",
        "print_grid()"
      ],
      "execution_count": null,
      "outputs": [
        {
          "output_type": "stream",
          "text": [
            "\n",
            "\n",
            "\n",
            "\n",
            "\n",
            "\n",
            "1 2 3 | 4 5 6 | 7 8 9 \n",
            "4 5 6 | 7 8 9 | 1 2 3 \n",
            "7 8 9 | 1 2 3 | 4 5 6 \n",
            "---------------------\n",
            "2 1 4 | 3 6 5 | 8 9 7 \n",
            "3 6 5 | 8 9 7 | 2 1 4 \n",
            "8 9 7 | 2 1 4 | 3 6 5 \n",
            "---------------------\n",
            "5 3 1 | 6 4 2 | 9 7 8 \n",
            "6 4 2 | 9 7 8 | 5 3 1 \n",
            "9 7 8 | 5 3 1 | 6 4 2 \n"
          ],
          "name": "stdout"
        }
      ]
    }
  ]
}